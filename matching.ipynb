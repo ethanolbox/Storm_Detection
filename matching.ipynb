{
 "cells": [
  {
   "cell_type": "code",
   "execution_count": 3,
   "metadata": {},
   "outputs": [],
   "source": [
    "# Basic imports\n",
    "import scipy, pandas as pd, numpy as np\n",
    "from matplotlib import pyplot as plt"
   ]
  },
  {
   "cell_type": "code",
   "execution_count": 124,
   "metadata": {},
   "outputs": [],
   "source": [
    "# Zone to FIPS crosswalk\n",
    "ztofips =pd.read_csv(\"ZonetoFIPS.txt\", names=[\"STATE\", \"ZONE\", \"CWA\", \"NAME\", \"STATE_ZONE\", \"COUNTY\", \"FIPS\", \"TIME_ZONE\", \"FE_AREA\", \"LAT\", \"LON\"], sep='|')"
   ]
  },
  {
   "cell_type": "code",
   "execution_count": 6,
   "metadata": {},
   "outputs": [],
   "source": [
    "# state abbreviations and fips crosswalk\n",
    "fipstoab = pd.read_csv(\"us-state-ansi-fips.csv\")\n",
    "fipstoab.rename(columns={' st': 'STATE_FIPS'}, inplace=True)"
   ]
  },
  {
   "cell_type": "code",
   "execution_count": 5,
   "metadata": {},
   "outputs": [
    {
     "data": {
      "text/html": [
       "<div>\n",
       "<style scoped>\n",
       "    .dataframe tbody tr th:only-of-type {\n",
       "        vertical-align: middle;\n",
       "    }\n",
       "\n",
       "    .dataframe tbody tr th {\n",
       "        vertical-align: top;\n",
       "    }\n",
       "\n",
       "    .dataframe thead th {\n",
       "        text-align: right;\n",
       "    }\n",
       "</style>\n",
       "<table border=\"1\" class=\"dataframe\">\n",
       "  <thead>\n",
       "    <tr style=\"text-align: right;\">\n",
       "      <th></th>\n",
       "      <th>STATE</th>\n",
       "      <th>ZONE</th>\n",
       "      <th>CWA</th>\n",
       "      <th>NAME</th>\n",
       "      <th>STATE_ZONE</th>\n",
       "      <th>COUNTY</th>\n",
       "      <th>FIPS</th>\n",
       "      <th>TIME_ZONE</th>\n",
       "      <th>FE_AREA</th>\n",
       "      <th>LAT</th>\n",
       "      <th>LON</th>\n",
       "    </tr>\n",
       "  </thead>\n",
       "  <tbody>\n",
       "  </tbody>\n",
       "</table>\n",
       "</div>"
      ],
      "text/plain": [
       "Empty DataFrame\n",
       "Columns: [STATE, ZONE, CWA, NAME, STATE_ZONE, COUNTY, FIPS, TIME_ZONE, FE_AREA, LAT, LON]\n",
       "Index: []"
      ]
     },
     "execution_count": 5,
     "metadata": {},
     "output_type": "execute_result"
    }
   ],
   "source": [
    "# testing of some missing NWS to FIPs crosswalks\n",
    "mask = ztofips['STATE_ZONE'] == 'NY077'\n",
    "ztofips[mask]"
   ]
  },
  {
   "cell_type": "code",
   "execution_count": 125,
   "metadata": {},
   "outputs": [],
   "source": [
    "fipstozips = pd.read_csv(\"fipstozips.csv\")"
   ]
  },
  {
   "cell_type": "code",
   "execution_count": 121,
   "metadata": {},
   "outputs": [],
   "source": [
    "def proc(noloc):\n",
    "    # convert the datetime file back to datetime object from text\n",
    "    noloc['beg_datetime'] = pd.to_datetime(noloc['beg_datetime'], format='%m/%d/%Y %H:%M:%S')\n",
    "\n",
    "    zones = noloc[noloc['CZ_TYPE'] == ' Z']\n",
    "\n",
    "    zones_ab = pd.merge(zones, fipstoab, on='STATE_FIPS', how='left')\n",
    "\n",
    "    zones_ab.rename(columns={' stusps': 'stusps'}, inplace=True)\n",
    "    zones_ab['stusps'] = zones_ab['stusps'].str.strip()\n",
    "    \n",
    "    notna_mask = zones_ab['stusps'].notna()\n",
    "    zones_ab = zones_ab[notna_mask]\n",
    "\n",
    "    # this stuff gives the setting with copy warning\n",
    "    zones_ab['zone_padded'] = zones_ab['CZ_FIPS'].astype(str).str.zfill(3)\n",
    "    zones_ab['STATE_ZONE'] = zones_ab['stusps'] + zones_ab['zone_padded']\n",
    "    \n",
    "    mask = zones_ab['STATE_ZONE'].notna()\n",
    "    \n",
    "    zones_fips = pd.merge(zones_ab, ztofips, on='STATE_ZONE', how='left')\n",
    "\n",
    "    # There needs to be some sort of crosswalking between old and new NWS zones \n",
    "    # in order for the crosswalk file given to work. Right now we're missing some.\n",
    "\n",
    "    # temp solution ignoring the NA values in order to write rest of the code\n",
    "    notnamask = zones_fips['FIPS'].notna()\n",
    "    zones_fips= zones_fips[notnamask]\n",
    "    zones_fips['FIPS'] = zones_fips['FIPS'].astype(int)\n",
    "\n",
    "    # for non zone entries with code C\n",
    "    others = noloc[noloc['CZ_TYPE'] == ' C'].copy()\n",
    "    others.loc[:, 'FIPS'] = others['STATE_FIPS'].astype(str) + others['CZ_FIPS'].astype(str).str.zfill(3)\n",
    "    others['FIPS'] = others['FIPS'].astype(int)\n",
    "\n",
    "    # combine\n",
    "    merged = pd.concat([zones_fips, others])\n",
    "    # crosswalk to zip\n",
    "    merged = pd.merge(merged, fipstozips, on=\"FIPS\")\n",
    "\n",
    "    # cut columns\n",
    "    columns = [\"GEOID20\", \"F_\", \"FIPS\", \"EVENT_TYPE\", \"beg_datetime\", \"days\"]\n",
    "    filtered = merged.loc[:, columns]\n",
    "\n",
    "    # index + sort\n",
    "    rindex = filtered.set_index(\"GEOID20\")\n",
    "    sorted = rindex.sort_index(ascending=True)\n",
    "\n",
    "    return sorted"
   ]
  },
  {
   "cell_type": "code",
   "execution_count": 127,
   "metadata": {},
   "outputs": [],
   "source": [
    "years = range(2006, 2023)\n",
    "columnNames = [\"GEOID20\", \"EVENT_ID\", \"FIPS\", \"EVENT_TYPE\", \"beg_datetime\", \"days\"]\n",
    "\n",
    "for year in years:\n",
    "    noloc = pd.read_csv(\"storm_noloc/storm\" + str(year) + \"_noloc.csv\")\n",
    "    result = proc(noloc)\n",
    "\n",
    "    np.savetxt(\"storm\" + str(year) + \"_noloc_zips\" + \".csv\", result, fmt='%s', delimiter=', ', header=', '.join(columnNames))"
   ]
  }
 ],
 "metadata": {
  "kernelspec": {
   "display_name": "Python 3",
   "language": "python",
   "name": "python3"
  },
  "language_info": {
   "codemirror_mode": {
    "name": "ipython",
    "version": 3
   },
   "file_extension": ".py",
   "mimetype": "text/x-python",
   "name": "python",
   "nbconvert_exporter": "python",
   "pygments_lexer": "ipython3",
   "version": "3.9.13"
  }
 },
 "nbformat": 4,
 "nbformat_minor": 2
}
